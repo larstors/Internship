{
 "cells": [
  {
   "cell_type": "code",
   "execution_count": 3,
   "metadata": {},
   "outputs": [],
   "source": [
    "import numpy as np\n",
    "import matplotlib.pyplot as plt\n",
    "import scipy.optimize as opt\n",
    "import scipy.misc as misc\n",
    "\n"
   ]
  },
  {
   "cell_type": "code",
   "execution_count": 12,
   "metadata": {},
   "outputs": [],
   "source": [
    "N = 100\n",
    "tmax = 10\n",
    "D = 1\n",
    "def potential(x):\n",
    "    return x ** 4 / 4 - x ** 2 / 2\n",
    "\n",
    "def dpotential(x):\n",
    "    return x ** 3 - x\n",
    "\n",
    "def action(init_values, q0, qf):\n",
    "        \"\"\"function to calculate the stochastic action using the Ito formalism\n",
    "\n",
    "        Args:\n",
    "            dt (float): time step width\n",
    "            q (np.ndarray): position\n",
    "            k1 (np.ndarray): conjugate variable to q\n",
    "\n",
    "        Returns:\n",
    "            float: (discrete) MSR action of system\n",
    "        \"\"\"\n",
    "        q = init_values[:N]\n",
    "        #k1 = init_values[N:]\n",
    "        \n",
    "        q[0] = q0\n",
    "        q[-1] = qf\n",
    "        \n",
    "        dt = tmax / N\n",
    "\n",
    "        # dimension\n",
    "        m = len(q) - 1\n",
    "\n",
    "        # derivatives\n",
    "        qdot = np.zeros(m)\n",
    "\n",
    "        qdot[:] = (q[1:] - q[:-1]) / dt\n",
    "\n",
    "        # action\n",
    "        S = 0\n",
    "        \n",
    "        for i in range(m):\n",
    "            S += (qdot[i] + dpotential(q[i])) ** 2 / 2\n",
    "        # (\n",
    "        #     D**(-1) * np.dot(qdot + misc.derivative(potential, q[:-1]), qdot + misc.derivative(potential, q[:-1]))\n",
    "        #     #- lambda_ * np.dot(np.ones(m), phi(k1[:-1] * a))\n",
    "        # )\n",
    "\n",
    "        # return the action\n",
    "        return S * dt"
   ]
  },
  {
   "cell_type": "code",
   "execution_count": 16,
   "metadata": {},
   "outputs": [
    {
     "data": {
      "text/plain": [
       "[<matplotlib.lines.Line2D at 0x7f22efe42140>]"
      ]
     },
     "execution_count": 16,
     "metadata": {},
     "output_type": "execute_result"
    },
    {
     "data": {
      "image/png": "[encoded data removed]",
      "text/plain": [
       "<Figure size 640x480 with 1 Axes>"
      ]
     },
     "metadata": {},
     "output_type": "display_data"
    }
   ],
   "source": [
    "\n",
    "q0 = -1\n",
    "qf = 0\n",
    "system = np.linspace(q0, qf, N)\n",
    "optimum = opt.minimize(action, x0=system, args=(q0, qf))#, constraints=constraint, options={'disp': True})\n",
    "\n",
    "\n",
    "time = np.linspace(0, tmax, N)\n",
    "q = np.zeros(N)\n",
    "q[0] = -1\n",
    "q[-1] = 0\n",
    "q[1:-1] = optimum.x[:N-2]\n",
    "\n",
    "\n",
    "plt.plot(time, q)"
   ]
  },
  {
   "cell_type": "code",
   "execution_count": null,
   "metadata": {},
   "outputs": [],
   "source": []
  }
 ],
 "metadata": {
  "kernelspec": {
   "display_name": "Python 3.10.6 64-bit",
   "language": "python",
   "name": "python3"
  },
  "language_info": {
   "codemirror_mode": {
    "name": "ipython",
    "version": 3
   },
   "file_extension": ".py",
   "mimetype": "text/x-python",
   "name": "python",
   "nbconvert_exporter": "python",
   "pygments_lexer": "ipython3",
   "version": "3.10.6"
  },
  "orig_nbformat": 4,
  "vscode": {
   "interpreter": {
    "hash": "31f2aee4e71d21fbe5cf8b01ff0e069b9275f58929596ceb00d14d90e3e16cd6"
   }
  }
 },
 "nbformat": 4,
 "nbformat_minor": 2
}
