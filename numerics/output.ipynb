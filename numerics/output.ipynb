{
 "cells": [
  {
   "cell_type": "code",
   "execution_count": 23,
   "metadata": {},
   "outputs": [],
   "source": [
    "import numpy as np\n",
    "import matplotlib.pyplot as plt\n",
    "import scipy.optimize as opt\n",
    "import scipy.misc as misc\n",
    "from numba import njit, jit\n",
    "import sys\n",
    "\n",
    "\n",
    "import legendre"
   ]
  },
  {
   "cell_type": "code",
   "execution_count": 4,
   "metadata": {},
   "outputs": [
    {
     "name": "stdout",
     "output_type": "stream",
     "text": [
      "Optimization terminated successfully    (Exit mode 0)\n",
      "            Current function value: 0.49957243671071316\n",
      "            Iterations: 117\n",
      "            Function evaluations: 11937\n",
      "            Gradient evaluations: 117\n",
      "Optimization terminated successfully    (Exit mode 0)\n",
      "            Current function value: 0.4995589252107509\n",
      "            Iterations: 112\n",
      "            Function evaluations: 11432\n",
      "            Gradient evaluations: 112\n",
      "Optimization terminated successfully    (Exit mode 0)\n",
      "            Current function value: 0.499475369062713\n",
      "            Iterations: 118\n",
      "            Function evaluations: 12039\n",
      "            Gradient evaluations: 118\n",
      "Optimization terminated successfully    (Exit mode 0)\n",
      "            Current function value: 0.49922578994682854\n",
      "            Iterations: 118\n",
      "            Function evaluations: 12040\n",
      "            Gradient evaluations: 118\n",
      "Optimization terminated successfully    (Exit mode 0)\n",
      "            Current function value: 0.49840664419887254\n",
      "            Iterations: 116\n",
      "            Function evaluations: 11842\n",
      "            Gradient evaluations: 116\n",
      "Optimization terminated successfully    (Exit mode 0)\n",
      "            Current function value: 0.49580613088753456\n",
      "            Iterations: 119\n",
      "            Function evaluations: 12141\n",
      "            Gradient evaluations: 119\n",
      "Optimization terminated successfully    (Exit mode 0)\n",
      "            Current function value: 0.4884119844000985\n",
      "            Iterations: 127\n",
      "            Function evaluations: 12949\n",
      "            Gradient evaluations: 127\n",
      "Optimization terminated successfully    (Exit mode 0)\n",
      "            Current function value: 0.4710797579146542\n",
      "            Iterations: 133\n",
      "            Function evaluations: 13553\n",
      "            Gradient evaluations: 133\n",
      "Optimization terminated successfully    (Exit mode 0)\n",
      "            Current function value: 0.43872102083487974\n",
      "            Iterations: 139\n",
      "            Function evaluations: 14154\n",
      "            Gradient evaluations: 139\n",
      "Optimization terminated successfully    (Exit mode 0)\n",
      "            Current function value: 0.38843758455333094\n",
      "            Iterations: 147\n",
      "            Function evaluations: 14960\n",
      "            Gradient evaluations: 147\n"
     ]
    },
    {
     "name": "stderr",
     "output_type": "stream",
     "text": [
      "/usr/lib/python3/dist-packages/scipy/optimize/_minpack_py.py:175: RuntimeWarning: xtol=0.000000 is too small, no further improvement in the approximate\n",
      "  solution is possible.\n",
      "  warnings.warn(msg, RuntimeWarning)\n"
     ]
    },
    {
     "name": "stdout",
     "output_type": "stream",
     "text": [
      "Optimization terminated successfully    (Exit mode 0)\n",
      "            Current function value: 0.3193357299373889\n",
      "            Iterations: 139\n",
      "            Function evaluations: 14156\n",
      "            Gradient evaluations: 139\n",
      "Optimization terminated successfully    (Exit mode 0)\n",
      "            Current function value: 0.23294991366224038\n",
      "            Iterations: 125\n",
      "            Function evaluations: 12733\n",
      "            Gradient evaluations: 125\n",
      "Optimization terminated successfully    (Exit mode 0)\n",
      "            Current function value: 0.13825637337511965\n",
      "            Iterations: 95\n",
      "            Function evaluations: 9685\n",
      "            Gradient evaluations: 95\n",
      "Optimization terminated successfully    (Exit mode 0)\n",
      "            Current function value: 0.06027928608590636\n",
      "            Iterations: 86\n",
      "            Function evaluations: 8691\n",
      "            Gradient evaluations: 86\n",
      "Optimization terminated successfully    (Exit mode 0)\n",
      "            Current function value: 0.020412297906527224\n",
      "            Iterations: 78\n",
      "            Function evaluations: 7879\n",
      "            Gradient evaluations: 78\n"
     ]
    },
    {
     "name": "stderr",
     "output_type": "stream",
     "text": [
      "/usr/lib/python3/dist-packages/scipy/optimize/_minpack_py.py:175: RuntimeWarning: The iteration is not making good progress, as measured by the \n",
      "  improvement from the last ten iterations.\n",
      "  warnings.warn(msg, RuntimeWarning)\n"
     ]
    },
    {
     "name": "stdout",
     "output_type": "stream",
     "text": [
      "Optimization terminated successfully    (Exit mode 0)\n",
      "            Current function value: 0.006299198974665906\n",
      "            Iterations: 112\n",
      "            Function evaluations: 11313\n",
      "            Gradient evaluations: 112\n",
      "Optimization terminated successfully    (Exit mode 0)\n",
      "            Current function value: 0.0019317930220221437\n",
      "            Iterations: 129\n",
      "            Function evaluations: 13030\n",
      "            Gradient evaluations: 129\n",
      "Optimization terminated successfully    (Exit mode 0)\n",
      "            Current function value: 0.0007260008955634508\n",
      "            Iterations: 78\n",
      "            Function evaluations: 7879\n",
      "            Gradient evaluations: 78\n",
      "Optimization terminated successfully    (Exit mode 0)\n",
      "            Current function value: 0.0004103501301748123\n",
      "            Iterations: 31\n",
      "            Function evaluations: 3131\n",
      "            Gradient evaluations: 31\n",
      "Optimization terminated successfully    (Exit mode 0)\n",
      "            Current function value: 0.0004999458400912207\n",
      "            Iterations: 2\n",
      "            Function evaluations: 202\n",
      "            Gradient evaluations: 2\n"
     ]
    }
   ],
   "source": [
    "N = 100\n",
    "tmax=10\n",
    "dt = tmax/N\n",
    "\n",
    "lam = np.logspace(start=-8, stop=2, base=10, num=20)\n",
    "\n",
    "S_norm_OM  = []\n",
    "S_norm_MSR = []\n",
    "\n",
    "for l in lam:\n",
    "    t = legendre.transform_nomemory(lambda_=l, a=10, D=1, N=N, noise=\"d\", pot=\"m\", tmax=tmax)\n",
    "    S_G = 2 * (t.Pot_mexico(0) - t.Pot_mexico(-1)) / (1 + l * 10 ** 2)\n",
    "\n",
    "    #op = t.minimize_full()\n",
    "    res = t.minimize()\n",
    "    #S_norm_OM.append(op.fun/S_G)\n",
    "    S_norm_MSR.append(res.fun/S_G)"
   ]
  },
  {
   "cell_type": "code",
   "execution_count": 5,
   "metadata": {},
   "outputs": [
    {
     "data": {
      "image/png": "[encoded data removed]",
      "text/plain": [
       "<Figure size 640x480 with 1 Axes>"
      ]
     },
     "metadata": {},
     "output_type": "display_data"
    }
   ],
   "source": [
    "fig3 = plt.figure()\n",
    "#plt.plot(lam, S_norm_OM, label=\"OM\")\n",
    "plt.plot(lam, S_norm_MSR, label=\"MSR\")\n",
    "plt.xlabel(r\"$\\lambda$\")\n",
    "plt.ylabel(r\"$S_\\mathrm{norm}$\")\n",
    "plt.xscale(\"log\")\n",
    "plt.grid()\n",
    "plt.legend()\n",
    "plt.axis([min(lam), max(lam), -0.1, 1.1])\n",
    "plt.savefig(\"S_norm.pdf\", dpi=500, bbox_inches=\"tight\")"
   ]
  },
  {
   "cell_type": "code",
   "execution_count": 24,
   "metadata": {},
   "outputs": [
    {
     "ename": "NameError",
     "evalue": "name 'a' is not defined",
     "output_type": "error",
     "traceback": [
      "\u001b[0;31m---------------------------------------------------------------------------\u001b[0m",
      "\u001b[0;31mNameError\u001b[0m                                 Traceback (most recent call last)",
      "Cell \u001b[0;32mIn[24], line 2\u001b[0m\n\u001b[1;32m      1\u001b[0m system \u001b[39m=\u001b[39m legendre\u001b[39m.\u001b[39mtransform(lambda_\u001b[39m=\u001b[39m\u001b[39m0\u001b[39m, a\u001b[39m=\u001b[39m\u001b[39m0\u001b[39m, tau\u001b[39m=\u001b[39m\u001b[39m1e-5\u001b[39m, D1\u001b[39m=\u001b[39m\u001b[39m0\u001b[39m, D2\u001b[39m=\u001b[39m\u001b[39m1\u001b[39m, N\u001b[39m=\u001b[39m\u001b[39m100\u001b[39m, noise\u001b[39m=\u001b[39m\u001b[39m\"\u001b[39m\u001b[39md\u001b[39m\u001b[39m\"\u001b[39m, pot\u001b[39m=\u001b[39m\u001b[39m\"\u001b[39m\u001b[39mm\u001b[39m\u001b[39m\"\u001b[39m, tmax\u001b[39m=\u001b[39m\u001b[39m10\u001b[39m, sigma\u001b[39m=\u001b[39m\u001b[39m1\u001b[39m, b\u001b[39m=\u001b[39m\u001b[39m1\u001b[39m)\n\u001b[0;32m----> 2\u001b[0m result \u001b[39m=\u001b[39m system\u001b[39m.\u001b[39;49mminimize()\n",
      "File \u001b[0;32m~/Documents/Internship/numerics/legendre.py:228\u001b[0m, in \u001b[0;36mminimize\u001b[0;34m(self)\u001b[0m\n\u001b[1;32m    226\u001b[0m \u001b[39melif\u001b[39;00m noise \u001b[39m==\u001b[39m \u001b[39m\"\u001b[39m\u001b[39mg\u001b[39m\u001b[39m\"\u001b[39m:\n\u001b[1;32m    227\u001b[0m     \u001b[39mself\u001b[39m\u001b[39m.\u001b[39mphi \u001b[39m=\u001b[39m \u001b[39mself\u001b[39m\u001b[39m.\u001b[39mPhi_gamma\n\u001b[0;32m--> 228\u001b[0m \u001b[39melif\u001b[39;00m noise \u001b[39m==\u001b[39m \u001b[39m\"\u001b[39m\u001b[39mt\u001b[39m\u001b[39m\"\u001b[39m:\n\u001b[1;32m    229\u001b[0m     \u001b[39mself\u001b[39m\u001b[39m.\u001b[39mphi \u001b[39m=\u001b[39m \u001b[39mself\u001b[39m\u001b[39m.\u001b[39mPhi_truncated\n\u001b[1;32m    231\u001b[0m \u001b[39m# potential\u001b[39;00m\n",
      "File \u001b[0;32m/usr/lib/python3/dist-packages/scipy/optimize/_minimize.py:690\u001b[0m, in \u001b[0;36mminimize\u001b[0;34m(fun, x0, args, method, jac, hess, hessp, bounds, constraints, tol, callback, options)\u001b[0m\n\u001b[1;32m    687\u001b[0m     res \u001b[39m=\u001b[39m _minimize_cobyla(fun, x0, args, constraints, callback\u001b[39m=\u001b[39mcallback,\n\u001b[1;32m    688\u001b[0m                             \u001b[39m*\u001b[39m\u001b[39m*\u001b[39moptions)\n\u001b[1;32m    689\u001b[0m \u001b[39melif\u001b[39;00m meth \u001b[39m==\u001b[39m \u001b[39m'\u001b[39m\u001b[39mslsqp\u001b[39m\u001b[39m'\u001b[39m:\n\u001b[0;32m--> 690\u001b[0m     res \u001b[39m=\u001b[39m _minimize_slsqp(fun, x0, args, jac, bounds,\n\u001b[1;32m    691\u001b[0m                           constraints, callback\u001b[39m=\u001b[39;49mcallback, \u001b[39m*\u001b[39;49m\u001b[39m*\u001b[39;49moptions)\n\u001b[1;32m    692\u001b[0m \u001b[39melif\u001b[39;00m meth \u001b[39m==\u001b[39m \u001b[39m'\u001b[39m\u001b[39mtrust-constr\u001b[39m\u001b[39m'\u001b[39m:\n\u001b[1;32m    693\u001b[0m     res \u001b[39m=\u001b[39m _minimize_trustregion_constr(fun, x0, args, jac, hess, hessp,\n\u001b[1;32m    694\u001b[0m                                        bounds, constraints,\n\u001b[1;32m    695\u001b[0m                                        callback\u001b[39m=\u001b[39mcallback, \u001b[39m*\u001b[39m\u001b[39m*\u001b[39moptions)\n",
      "File \u001b[0;32m/usr/lib/python3/dist-packages/scipy/optimize/_slsqp_py.py:374\u001b[0m, in \u001b[0;36m_minimize_slsqp\u001b[0;34m(func, x0, args, jac, bounds, constraints, maxiter, ftol, iprint, disp, eps, callback, finite_diff_rel_step, **unknown_options)\u001b[0m\n\u001b[1;32m    371\u001b[0m     xu[infbnd[:, \u001b[39m1\u001b[39m]] \u001b[39m=\u001b[39m np\u001b[39m.\u001b[39mnan\n\u001b[1;32m    373\u001b[0m \u001b[39m# ScalarFunction provides function and gradient evaluation\u001b[39;00m\n\u001b[0;32m--> 374\u001b[0m sf \u001b[39m=\u001b[39m _prepare_scalar_function(func, x, jac\u001b[39m=\u001b[39;49mjac, args\u001b[39m=\u001b[39;49margs, epsilon\u001b[39m=\u001b[39;49meps,\n\u001b[1;32m    375\u001b[0m                               finite_diff_rel_step\u001b[39m=\u001b[39;49mfinite_diff_rel_step,\n\u001b[1;32m    376\u001b[0m                               bounds\u001b[39m=\u001b[39;49mnew_bounds)\n\u001b[1;32m    377\u001b[0m \u001b[39m# gh11403 SLSQP sometimes exceeds bounds by 1 or 2 ULP, make sure this\u001b[39;00m\n\u001b[1;32m    378\u001b[0m \u001b[39m# doesn't get sent to the func/grad evaluator.\u001b[39;00m\n\u001b[1;32m    379\u001b[0m wrapped_fun \u001b[39m=\u001b[39m _clip_x_for_func(sf\u001b[39m.\u001b[39mfun, new_bounds)\n",
      "File \u001b[0;32m/usr/lib/python3/dist-packages/scipy/optimize/_optimize.py:263\u001b[0m, in \u001b[0;36m_prepare_scalar_function\u001b[0;34m(fun, x0, jac, args, bounds, epsilon, finite_diff_rel_step, hess)\u001b[0m\n\u001b[1;32m    259\u001b[0m     bounds \u001b[39m=\u001b[39m (\u001b[39m-\u001b[39mnp\u001b[39m.\u001b[39minf, np\u001b[39m.\u001b[39minf)\n\u001b[1;32m    261\u001b[0m \u001b[39m# ScalarFunction caches. Reuse of fun(x) during grad\u001b[39;00m\n\u001b[1;32m    262\u001b[0m \u001b[39m# calculation reduces overall function evaluations.\u001b[39;00m\n\u001b[0;32m--> 263\u001b[0m sf \u001b[39m=\u001b[39m ScalarFunction(fun, x0, args, grad, hess,\n\u001b[1;32m    264\u001b[0m                     finite_diff_rel_step, bounds, epsilon\u001b[39m=\u001b[39;49mepsilon)\n\u001b[1;32m    266\u001b[0m \u001b[39mreturn\u001b[39;00m sf\n",
      "File \u001b[0;32m/usr/lib/python3/dist-packages/scipy/optimize/_differentiable_functions.py:158\u001b[0m, in \u001b[0;36mScalarFunction.__init__\u001b[0;34m(self, fun, x0, args, grad, hess, finite_diff_rel_step, finite_diff_bounds, epsilon)\u001b[0m\n\u001b[1;32m    155\u001b[0m     \u001b[39mself\u001b[39m\u001b[39m.\u001b[39mf \u001b[39m=\u001b[39m fun_wrapped(\u001b[39mself\u001b[39m\u001b[39m.\u001b[39mx)\n\u001b[1;32m    157\u001b[0m \u001b[39mself\u001b[39m\u001b[39m.\u001b[39m_update_fun_impl \u001b[39m=\u001b[39m update_fun\n\u001b[0;32m--> 158\u001b[0m \u001b[39mself\u001b[39;49m\u001b[39m.\u001b[39;49m_update_fun()\n\u001b[1;32m    160\u001b[0m \u001b[39m# Gradient evaluation\u001b[39;00m\n\u001b[1;32m    161\u001b[0m \u001b[39mif\u001b[39;00m callable(grad):\n",
      "File \u001b[0;32m/usr/lib/python3/dist-packages/scipy/optimize/_differentiable_functions.py:251\u001b[0m, in \u001b[0;36mScalarFunction._update_fun\u001b[0;34m(self)\u001b[0m\n\u001b[1;32m    249\u001b[0m \u001b[39mdef\u001b[39;00m \u001b[39m_update_fun\u001b[39m(\u001b[39mself\u001b[39m):\n\u001b[1;32m    250\u001b[0m     \u001b[39mif\u001b[39;00m \u001b[39mnot\u001b[39;00m \u001b[39mself\u001b[39m\u001b[39m.\u001b[39mf_updated:\n\u001b[0;32m--> 251\u001b[0m         \u001b[39mself\u001b[39;49m\u001b[39m.\u001b[39;49m_update_fun_impl()\n\u001b[1;32m    252\u001b[0m         \u001b[39mself\u001b[39m\u001b[39m.\u001b[39mf_updated \u001b[39m=\u001b[39m \u001b[39mTrue\u001b[39;00m\n",
      "File \u001b[0;32m/usr/lib/python3/dist-packages/scipy/optimize/_differentiable_functions.py:155\u001b[0m, in \u001b[0;36mScalarFunction.__init__.<locals>.update_fun\u001b[0;34m()\u001b[0m\n\u001b[1;32m    154\u001b[0m \u001b[39mdef\u001b[39;00m \u001b[39mupdate_fun\u001b[39m():\n\u001b[0;32m--> 155\u001b[0m     \u001b[39mself\u001b[39m\u001b[39m.\u001b[39mf \u001b[39m=\u001b[39m fun_wrapped(\u001b[39mself\u001b[39;49m\u001b[39m.\u001b[39;49mx)\n",
      "File \u001b[0;32m/usr/lib/python3/dist-packages/scipy/optimize/_differentiable_functions.py:137\u001b[0m, in \u001b[0;36mScalarFunction.__init__.<locals>.fun_wrapped\u001b[0;34m(x)\u001b[0m\n\u001b[1;32m    133\u001b[0m \u001b[39mself\u001b[39m\u001b[39m.\u001b[39mnfev \u001b[39m+\u001b[39m\u001b[39m=\u001b[39m \u001b[39m1\u001b[39m\n\u001b[1;32m    134\u001b[0m \u001b[39m# Send a copy because the user may overwrite it.\u001b[39;00m\n\u001b[1;32m    135\u001b[0m \u001b[39m# Overwriting results in undefined behaviour because\u001b[39;00m\n\u001b[1;32m    136\u001b[0m \u001b[39m# fun(self.x) will change self.x, with the two no longer linked.\u001b[39;00m\n\u001b[0;32m--> 137\u001b[0m fx \u001b[39m=\u001b[39m fun(np\u001b[39m.\u001b[39;49mcopy(x), \u001b[39m*\u001b[39;49margs)\n\u001b[1;32m    138\u001b[0m \u001b[39m# Make sure the function returns a true scalar\u001b[39;00m\n\u001b[1;32m    139\u001b[0m \u001b[39mif\u001b[39;00m \u001b[39mnot\u001b[39;00m np\u001b[39m.\u001b[39misscalar(fx):\n",
      "File \u001b[0;32m~/Documents/Internship/numerics/legendre.py:170\u001b[0m, in \u001b[0;36mtransform.MSR_action\u001b[0;34m(self, init_values)\u001b[0m\n\u001b[1;32m    167\u001b[0m qdot \u001b[39m=\u001b[39m (q[\u001b[39m1\u001b[39m:] \u001b[39m-\u001b[39m q[:\u001b[39m-\u001b[39m\u001b[39m1\u001b[39m]) \u001b[39m/\u001b[39m delta_t\n\u001b[1;32m    168\u001b[0m ydot \u001b[39m=\u001b[39m (y[\u001b[39m1\u001b[39m:] \u001b[39m-\u001b[39m y[:\u001b[39m-\u001b[39m\u001b[39m1\u001b[39m]) \u001b[39m/\u001b[39m delta_t\n\u001b[0;32m--> 170\u001b[0m k1, k2 \u001b[39m=\u001b[39m \u001b[39mself\u001b[39m\u001b[39m.\u001b[39mLegendre_transform(np\u001b[39m.\u001b[39mones_like(qdot)\u001b[39m*\u001b[39mprop, qdot, q[:\u001b[39m-\u001b[39m\u001b[39m1\u001b[39m], ydot, y[:\u001b[39m-\u001b[39m\u001b[39m1\u001b[39m])\n\u001b[1;32m    172\u001b[0m S \u001b[39m=\u001b[39m \u001b[39m0\u001b[39m\n\u001b[1;32m    174\u001b[0m \u001b[39mfor\u001b[39;00m i \u001b[39min\u001b[39;00m \u001b[39mrange\u001b[39m(\u001b[39mself\u001b[39m\u001b[39m.\u001b[39mN \u001b[39m-\u001b[39m \u001b[39m1\u001b[39m):\n",
      "File \u001b[0;32m~/Documents/Internship/numerics/legendre.py:156\u001b[0m, in \u001b[0;36mtransform.Legendre_transform\u001b[0;34m(self, initial, qDot, q, yDot, y)\u001b[0m\n\u001b[1;32m    153\u001b[0m \u001b[39melse\u001b[39;00m:\n\u001b[1;32m    154\u001b[0m     k1 \u001b[39m=\u001b[39m np\u001b[39m.\u001b[39mzeros_like(f0)\n\u001b[0;32m--> 156\u001b[0m k2 \u001b[39m=\u001b[39m opt\u001b[39m.\u001b[39;49mfsolve(\u001b[39mself\u001b[39;49m\u001b[39m.\u001b[39;49mOpt_Func, initial, args\u001b[39m=\u001b[39;49mf1)\n\u001b[1;32m    158\u001b[0m \u001b[39mreturn\u001b[39;00m k1, k2\n",
      "File \u001b[0;32m/usr/lib/python3/dist-packages/scipy/optimize/_minpack_py.py:160\u001b[0m, in \u001b[0;36mfsolve\u001b[0;34m(func, x0, args, fprime, full_output, col_deriv, xtol, maxfev, band, epsfcn, factor, diag)\u001b[0m\n\u001b[1;32m     49\u001b[0m \u001b[39m\"\"\"\u001b[39;00m\n\u001b[1;32m     50\u001b[0m \u001b[39mFind the roots of a function.\u001b[39;00m\n\u001b[1;32m     51\u001b[0m \n\u001b[0;32m   (...)\u001b[0m\n\u001b[1;32m    150\u001b[0m \n\u001b[1;32m    151\u001b[0m \u001b[39m\"\"\"\u001b[39;00m\n\u001b[1;32m    152\u001b[0m options \u001b[39m=\u001b[39m {\u001b[39m'\u001b[39m\u001b[39mcol_deriv\u001b[39m\u001b[39m'\u001b[39m: col_deriv,\n\u001b[1;32m    153\u001b[0m            \u001b[39m'\u001b[39m\u001b[39mxtol\u001b[39m\u001b[39m'\u001b[39m: xtol,\n\u001b[1;32m    154\u001b[0m            \u001b[39m'\u001b[39m\u001b[39mmaxfev\u001b[39m\u001b[39m'\u001b[39m: maxfev,\n\u001b[0;32m   (...)\u001b[0m\n\u001b[1;32m    157\u001b[0m            \u001b[39m'\u001b[39m\u001b[39mfactor\u001b[39m\u001b[39m'\u001b[39m: factor,\n\u001b[1;32m    158\u001b[0m            \u001b[39m'\u001b[39m\u001b[39mdiag\u001b[39m\u001b[39m'\u001b[39m: diag}\n\u001b[0;32m--> 160\u001b[0m res \u001b[39m=\u001b[39m _root_hybr(func, x0, args, jac\u001b[39m=\u001b[39;49mfprime, \u001b[39m*\u001b[39;49m\u001b[39m*\u001b[39;49moptions)\n\u001b[1;32m    161\u001b[0m \u001b[39mif\u001b[39;00m full_output:\n\u001b[1;32m    162\u001b[0m     x \u001b[39m=\u001b[39m res[\u001b[39m'\u001b[39m\u001b[39mx\u001b[39m\u001b[39m'\u001b[39m]\n",
      "File \u001b[0;32m/usr/lib/python3/dist-packages/scipy/optimize/_minpack_py.py:226\u001b[0m, in \u001b[0;36m_root_hybr\u001b[0;34m(func, x0, args, jac, col_deriv, xtol, maxfev, band, eps, factor, diag, **unknown_options)\u001b[0m\n\u001b[1;32m    224\u001b[0m \u001b[39mif\u001b[39;00m \u001b[39mnot\u001b[39;00m \u001b[39misinstance\u001b[39m(args, \u001b[39mtuple\u001b[39m):\n\u001b[1;32m    225\u001b[0m     args \u001b[39m=\u001b[39m (args,)\n\u001b[0;32m--> 226\u001b[0m shape, dtype \u001b[39m=\u001b[39m _check_func(\u001b[39m'\u001b[39;49m\u001b[39mfsolve\u001b[39;49m\u001b[39m'\u001b[39;49m, \u001b[39m'\u001b[39;49m\u001b[39mfunc\u001b[39;49m\u001b[39m'\u001b[39;49m, func, x0, args, n, (n,))\n\u001b[1;32m    227\u001b[0m \u001b[39mif\u001b[39;00m epsfcn \u001b[39mis\u001b[39;00m \u001b[39mNone\u001b[39;00m:\n\u001b[1;32m    228\u001b[0m     epsfcn \u001b[39m=\u001b[39m finfo(dtype)\u001b[39m.\u001b[39meps\n",
      "File \u001b[0;32m/usr/lib/python3/dist-packages/scipy/optimize/_minpack_py.py:24\u001b[0m, in \u001b[0;36m_check_func\u001b[0;34m(checker, argname, thefunc, x0, args, numinputs, output_shape)\u001b[0m\n\u001b[1;32m     22\u001b[0m \u001b[39mdef\u001b[39;00m \u001b[39m_check_func\u001b[39m(checker, argname, thefunc, x0, args, numinputs,\n\u001b[1;32m     23\u001b[0m                 output_shape\u001b[39m=\u001b[39m\u001b[39mNone\u001b[39;00m):\n\u001b[0;32m---> 24\u001b[0m     res \u001b[39m=\u001b[39m atleast_1d(thefunc(\u001b[39m*\u001b[39;49m((x0[:numinputs],) \u001b[39m+\u001b[39;49m args)))\n\u001b[1;32m     25\u001b[0m     \u001b[39mif\u001b[39;00m (output_shape \u001b[39mis\u001b[39;00m \u001b[39mnot\u001b[39;00m \u001b[39mNone\u001b[39;00m) \u001b[39mand\u001b[39;00m (shape(res) \u001b[39m!=\u001b[39m output_shape):\n\u001b[1;32m     26\u001b[0m         \u001b[39mif\u001b[39;00m (output_shape[\u001b[39m0\u001b[39m] \u001b[39m!=\u001b[39m \u001b[39m1\u001b[39m):\n",
      "File \u001b[0;32m~/Documents/Internship/numerics/legendre.py:144\u001b[0m, in \u001b[0;36mtransform.Opt_Func\u001b[0;34m(self, k2, f1)\u001b[0m\n\u001b[1;32m    143\u001b[0m \u001b[39mdef\u001b[39;00m \u001b[39mOpt_Func\u001b[39m(\u001b[39mself\u001b[39m, k2, f1):\n\u001b[0;32m--> 144\u001b[0m     \u001b[39mreturn\u001b[39;00m f1 \u001b[39m-\u001b[39m \u001b[39mself\u001b[39m\u001b[39m.\u001b[39mD2 \u001b[39m*\u001b[39m k2 \u001b[39m-\u001b[39m \u001b[39mself\u001b[39m\u001b[39m.\u001b[39mlambda_ \u001b[39m*\u001b[39m \u001b[39mself\u001b[39m\u001b[39m.\u001b[39ma \u001b[39m*\u001b[39m \u001b[39mself\u001b[39m\u001b[39m.\u001b[39mdPhi_delta(\u001b[39mself\u001b[39m\u001b[39m.\u001b[39ma \u001b[39m*\u001b[39m k2)\n",
      "\u001b[0;31mNameError\u001b[0m: name 'a' is not defined"
     ]
    }
   ],
   "source": [
    "system = legendre.transform(lambda_=0, a=0, tau=1e-5, D1=0, D2=1, N=100, noise=\"d\", pot=\"m\", tmax=10, sigma=1, b=1)\n",
    "result = system.minimize()"
   ]
  },
  {
   "cell_type": "code",
   "execution_count": null,
   "metadata": {},
   "outputs": [],
   "source": []
  }
 ],
 "metadata": {
  "kernelspec": {
   "display_name": "Python 3.10.6 64-bit",
   "language": "python",
   "name": "python3"
  },
  "language_info": {
   "codemirror_mode": {
    "name": "ipython",
    "version": 3
   },
   "file_extension": ".py",
   "mimetype": "text/x-python",
   "name": "python",
   "nbconvert_exporter": "python",
   "pygments_lexer": "ipython3",
   "version": "3.10.6"
  },
  "orig_nbformat": 4,
  "vscode": {
   "interpreter": {
    "hash": "31f2aee4e71d21fbe5cf8b01ff0e069b9275f58929596ceb00d14d90e3e16cd6"
   }
  }
 },
 "nbformat": 4,
 "nbformat_minor": 2
}
