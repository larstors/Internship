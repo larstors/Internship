{
 "cells": [
  {
   "cell_type": "code",
   "execution_count": null,
   "id": "bfeb5ff7",
   "metadata": {},
   "outputs": [],
   "source": [
    "using BoundaryValueDiffEq, ForwardDiff"
   ]
  },
  {
   "cell_type": "code",
   "execution_count": null,
   "id": "ef85e126",
   "metadata": {},
   "outputs": [],
   "source": [
    "using DifferentialEquations\n",
    "using OrdinaryDiffEq"
   ]
  },
  {
   "cell_type": "code",
   "execution_count": null,
   "id": "ac83252d",
   "metadata": {},
   "outputs": [],
   "source": [
    "using OrdinaryDiffEq"
   ]
  },
  {
   "cell_type": "code",
   "execution_count": null,
   "id": "bbbe0669",
   "metadata": {},
   "outputs": [],
   "source": [
    "using Plots"
   ]
  },
  {
   "cell_type": "code",
   "execution_count": null,
   "id": "8d22895c",
   "metadata": {},
   "outputs": [],
   "source": [
    "potential(x) = x^4-6*x^2-2*x+5;"
   ]
  },
  {
   "cell_type": "code",
   "execution_count": null,
   "id": "8a97bed8",
   "metadata": {},
   "outputs": [],
   "source": [
    "#dev_potential(x) = 4*x^3 - 12*x - 2"
   ]
  },
  {
   "cell_type": "code",
   "execution_count": null,
   "id": "57fed935",
   "metadata": {},
   "outputs": [],
   "source": [
    "#sec_potential(x) = 12*x^3 - 12"
   ]
  },
  {
   "cell_type": "code",
   "execution_count": null,
   "id": "f29f2a45",
   "metadata": {},
   "outputs": [],
   "source": [
    "phi_const(k) = cosh(k) - 1"
   ]
  },
  {
   "cell_type": "code",
   "execution_count": null,
   "id": "2d893726",
   "metadata": {},
   "outputs": [],
   "source": [
    "#phi_deriv(k) = sinh(k)"
   ]
  },
  {
   "cell_type": "code",
   "execution_count": null,
   "id": "7ff02160",
   "metadata": {},
   "outputs": [],
   "source": [
    "x1 = -1.64\n",
    "x2 = -0.17;"
   ]
  },
  {
   "cell_type": "code",
   "execution_count": null,
   "id": "76595c0c",
   "metadata": {},
   "outputs": [],
   "source": [
    "#function euler_lagrange!(du, u, p, t)\n",
    "#    du[1] = -dev_potential(u[1]) + u[2] + phi_deriv(u[2])\n",
    "#    du[2] =  sec_potential(u[1])*u[2]\n",
    "#end"
   ]
  },
  {
   "cell_type": "code",
   "execution_count": null,
   "id": "92ed8b6d",
   "metadata": {},
   "outputs": [],
   "source": [
    "function euler_lagrange!(du, u, p, t)\n",
    "    du[1] = -ForwardDiff.derivative(potential, u[1]) + u[2] + ForwardDiff.derivative(phi_const, u[2])\n",
    "    du[2] = ForwardDiff.derivative(x -> ForwardDiff.derivative(potential, x), u[1])*u[2]\n",
    "end"
   ]
  },
  {
   "cell_type": "code",
   "execution_count": null,
   "id": "60120395",
   "metadata": {},
   "outputs": [],
   "source": [
    "function bc2!(residual, u, p, t) # u[1] is the beginning of the time span, and u[end] is the ending\n",
    "    residual[1] = u[1][1] - x1 # the solution at the beginning of the time span should be -pi/2\n",
    "    residual[2] = u[end][1] - x2 # the solution at the end of the time span should be pi/2\n",
    "end"
   ]
  },
  {
   "cell_type": "code",
   "execution_count": null,
   "id": "43c38035",
   "metadata": {},
   "outputs": [],
   "source": [
    "tspan = (0.0, 1.0)"
   ]
  },
  {
   "cell_type": "code",
   "execution_count": null,
   "id": "f5a61a84",
   "metadata": {},
   "outputs": [],
   "source": [
    "u0 = [x1, 0.2] # the initial guess"
   ]
  },
  {
   "cell_type": "code",
   "execution_count": null,
   "id": "ca06cf08",
   "metadata": {},
   "outputs": [],
   "source": [
    "bvp3 = BVProblem(euler_lagrange!, bc2!, u0, tspan)\n"
   ]
  },
  {
   "cell_type": "code",
   "execution_count": null,
   "id": "5a6f8138",
   "metadata": {},
   "outputs": [],
   "source": [
    "sol3 = solve(bvp3, Shooting(Vern7()))"
   ]
  },
  {
   "cell_type": "code",
   "execution_count": null,
   "id": "acdb1045",
   "metadata": {},
   "outputs": [],
   "source": [
    "#plot(sol2.t, map(x-> x[1], sol2.u))"
   ]
  },
  {
   "cell_type": "code",
   "execution_count": null,
   "id": "dad9b879",
   "metadata": {},
   "outputs": [],
   "source": [
    "plot(sol3.t, map(x-> x[1], sol3.u), marker = :circle)"
   ]
  },
  {
   "cell_type": "code",
   "execution_count": null,
   "id": "59ed3916",
   "metadata": {},
   "outputs": [],
   "source": []
  },
  {
   "cell_type": "code",
   "execution_count": null,
   "id": "ce35d7ef",
   "metadata": {},
   "outputs": [],
   "source": []
  },
  {
   "cell_type": "code",
   "execution_count": null,
   "id": "bd91f059",
   "metadata": {},
   "outputs": [],
   "source": [
    "#plot(sol2.t, map(x-> x[1], sol2.u))\n",
    "plot(sol3.t, map(x-> x[1], sol3.u))"
   ]
  },
  {
   "cell_type": "code",
   "execution_count": null,
   "id": "f4f1f508",
   "metadata": {},
   "outputs": [],
   "source": []
  }
 ],
 "metadata": {
  "kernelspec": {
   "display_name": "Julia 1.8.5",
   "language": "julia",
   "name": "julia-1.8"
  },
  "language_info": {
   "file_extension": ".jl",
   "mimetype": "application/julia",
   "name": "julia",
   "version": "1.8.5"
  }
 },
 "nbformat": 4,
 "nbformat_minor": 5
}
